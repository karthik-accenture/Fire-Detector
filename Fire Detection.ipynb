{
 "cells": [
  {
   "cell_type": "markdown",
   "metadata": {},
   "source": [
    "import os,shutil"
   ]
  },
  {
   "cell_type": "markdown",
   "metadata": {},
   "source": [
    "base_dir='C:/Karthik/Analytics/dataset/Fire/frames'\n"
   ]
  },
  {
   "cell_type": "code",
   "execution_count": 3,
   "metadata": {},
   "outputs": [],
   "source": [
    "train_dir=os.path.join(base_dir,'train')"
   ]
  },
  {
   "cell_type": "code",
   "execution_count": 9,
   "metadata": {},
   "outputs": [],
   "source": [
    "validation_dir=os.path.join(base_dir,'validation')"
   ]
  },
  {
   "cell_type": "code",
   "execution_count": 5,
   "metadata": {},
   "outputs": [],
   "source": [
    "train_fire_dir=os.path.join(train_dir,'fire')"
   ]
  },
  {
   "cell_type": "code",
   "execution_count": 6,
   "metadata": {},
   "outputs": [],
   "source": [
    "train_nofire_dir=os.path.join(train_dir,'nofire')"
   ]
  },
  {
   "cell_type": "code",
   "execution_count": 10,
   "metadata": {},
   "outputs": [],
   "source": [
    "validation_fire_dir=os.path.join(validation_dir,'fire')\n",
    "validation_nofire_dir=os.path.join(validation_dir,'nofire')"
   ]
  },
  {
   "cell_type": "code",
   "execution_count": 11,
   "metadata": {},
   "outputs": [
    {
     "name": "stdout",
     "output_type": "stream",
     "text": [
      "training fire 187\n",
      "training nofire 128\n",
      "Validation fire 108\n",
      "Validation nofire 70\n"
     ]
    }
   ],
   "source": [
    "print('training fire',len(os.listdir(train_fire_dir)))\n",
    "print('training nofire',len(os.listdir(train_nofire_dir)))\n",
    "print('Validation fire',len(os.listdir(validation_fire_dir)))\n",
    "print('Validation nofire',len(os.listdir(validation_nofire_dir)))"
   ]
  },
  {
   "cell_type": "code",
   "execution_count": 12,
   "metadata": {},
   "outputs": [
    {
     "name": "stderr",
     "output_type": "stream",
     "text": [
      "Using TensorFlow backend.\n"
     ]
    }
   ],
   "source": [
    "from keras import layers\n",
    "from keras import models"
   ]
  },
  {
   "cell_type": "code",
   "execution_count": 13,
   "metadata": {},
   "outputs": [
    {
     "name": "stdout",
     "output_type": "stream",
     "text": [
      "WARNING:tensorflow:From C:\\Users\\Karthik\\Anaconda3\\lib\\site-packages\\tensorflow\\python\\framework\\op_def_library.py:263: colocate_with (from tensorflow.python.framework.ops) is deprecated and will be removed in a future version.\n",
      "Instructions for updating:\n",
      "Colocations handled automatically by placer.\n"
     ]
    }
   ],
   "source": [
    "model=models.Sequential()\n",
    "model.add(layers.Conv2D(32,(3,3),activation='relu',input_shape=(150,150,3)))\n",
    "model.add(layers.MaxPooling2D((2,2)))\n",
    "model.add(layers.Conv2D(64,(3,3),activation='relu'))\n",
    "model.add(layers.MaxPooling2D((2,2)))\n",
    "model.add(layers.Conv2D(128,(3,3),activation='relu'))\n",
    "model.add(layers.MaxPooling2D((2,2)))\n",
    "model.add(layers.Conv2D(128,(3,3),activation='relu'))\n",
    "model.add(layers.MaxPooling2D((2,2)))\n",
    "model.add(layers.Flatten())\n",
    "model.add(layers.Dropout(0,5))\n",
    "model.add(layers.Dense(512,activation='relu'))\n",
    "model.add(layers.Dense(1,activation='sigmoid'))"
   ]
  },
  {
   "cell_type": "code",
   "execution_count": 14,
   "metadata": {},
   "outputs": [],
   "source": [
    "from keras import optimizers\n",
    "model.compile(loss='binary_crossentropy',optimizer=optimizers.RMSprop(lr=1e-4),metrics=['acc'])"
   ]
  },
  {
   "cell_type": "code",
   "execution_count": 15,
   "metadata": {},
   "outputs": [],
   "source": [
    "from keras.preprocessing.image import ImageDataGenerator"
   ]
  },
  {
   "cell_type": "code",
   "execution_count": 16,
   "metadata": {},
   "outputs": [
    {
     "name": "stdout",
     "output_type": "stream",
     "text": [
      "Found 315 images belonging to 2 classes.\n"
     ]
    }
   ],
   "source": [
    "train_datagen=ImageDataGenerator(rescale=1./255)\n",
    "test_datagen=ImageDataGenerator(rescale=1./255)\n",
    "train_generator=train_datagen.flow_from_directory(\n",
    "train_dir,\n",
    "target_size=(150,150),\n",
    "batch_size=20,\n",
    "class_mode='binary')"
   ]
  },
  {
   "cell_type": "code",
   "execution_count": 17,
   "metadata": {},
   "outputs": [
    {
     "name": "stdout",
     "output_type": "stream",
     "text": [
      "Found 178 images belonging to 2 classes.\n"
     ]
    }
   ],
   "source": [
    "validation_generator=test_datagen.flow_from_directory(\n",
    "validation_dir,\n",
    "target_size=(150,150),\n",
    "batch_size=20,\n",
    "class_mode='binary')"
   ]
  },
  {
   "cell_type": "code",
   "execution_count": 18,
   "metadata": {},
   "outputs": [],
   "source": [
    "train_datagen=ImageDataGenerator(\n",
    "    rescale=1./255,\n",
    "    rotation_range=40,\n",
    "    width_shift_range=0.2,\n",
    "    height_shift_range=0.2,\n",
    "    shear_range=0.2,\n",
    "    zoom_range=0.2,\n",
    "    horizontal_flip=True,)\n"
   ]
  },
  {
   "cell_type": "code",
   "execution_count": 19,
   "metadata": {},
   "outputs": [
    {
     "name": "stdout",
     "output_type": "stream",
     "text": [
      "WARNING:tensorflow:From C:\\Users\\Karthik\\Anaconda3\\lib\\site-packages\\tensorflow\\python\\ops\\math_ops.py:3066: to_int32 (from tensorflow.python.ops.math_ops) is deprecated and will be removed in a future version.\n",
      "Instructions for updating:\n",
      "Use tf.cast instead.\n",
      "Epoch 1/100\n",
      "10/10 [==============================] - 46s 5s/step - loss: 0.6715 - acc: 0.5950 - val_loss: 0.6307 - val_acc: 0.6010\n",
      "Epoch 2/100\n",
      "10/10 [==============================] - 26s 3s/step - loss: 0.6019 - acc: 0.6551 - val_loss: 0.5160 - val_acc: 0.5909\n",
      "Epoch 3/100\n",
      "10/10 [==============================] - 26s 3s/step - loss: 0.5312 - acc: 0.6700 - val_loss: 0.4135 - val_acc: 0.6162\n",
      "Epoch 4/100\n",
      "10/10 [==============================] - 26s 3s/step - loss: 0.5068 - acc: 0.6942 - val_loss: 0.3035 - val_acc: 0.9343\n",
      "Epoch 5/100\n",
      "10/10 [==============================] - 26s 3s/step - loss: 0.4183 - acc: 0.7865 - val_loss: 0.2893 - val_acc: 0.9141\n",
      "Epoch 6/100\n",
      "10/10 [==============================] - 26s 3s/step - loss: 0.3961 - acc: 0.8450 - val_loss: 0.2419 - val_acc: 0.9343\n",
      "Epoch 7/100\n",
      "10/10 [==============================] - 26s 3s/step - loss: 0.3109 - acc: 0.8782 - val_loss: 0.3021 - val_acc: 0.8283\n",
      "Epoch 8/100\n",
      "10/10 [==============================] - 25s 3s/step - loss: 0.3779 - acc: 0.8100 - val_loss: 0.3211 - val_acc: 0.8030\n",
      "Epoch 9/100\n",
      "10/10 [==============================] - 26s 3s/step - loss: 0.3410 - acc: 0.8100 - val_loss: 0.2844 - val_acc: 0.8367\n",
      "Epoch 10/100\n",
      "10/10 [==============================] - 26s 3s/step - loss: 0.2945 - acc: 0.9083 - val_loss: 0.2108 - val_acc: 0.9394\n",
      "Epoch 11/100\n",
      "10/10 [==============================] - 26s 3s/step - loss: 0.2958 - acc: 0.9000 - val_loss: 0.2308 - val_acc: 0.9293\n",
      "Epoch 12/100\n",
      "10/10 [==============================] - 26s 3s/step - loss: 0.2124 - acc: 0.9233 - val_loss: 0.2177 - val_acc: 0.9141\n",
      "Epoch 13/100\n",
      "10/10 [==============================] - 25s 3s/step - loss: 0.2652 - acc: 0.9083 - val_loss: 0.1935 - val_acc: 0.9394\n",
      "Epoch 14/100\n",
      "10/10 [==============================] - 26s 3s/step - loss: 0.2707 - acc: 0.9000 - val_loss: 0.2078 - val_acc: 0.9242\n",
      "Epoch 15/100\n",
      "10/10 [==============================] - 27s 3s/step - loss: 0.2688 - acc: 0.8767 - val_loss: 0.1729 - val_acc: 0.9596\n",
      "Epoch 16/100\n",
      "10/10 [==============================] - 26s 3s/step - loss: 0.1867 - acc: 0.9368 - val_loss: 0.2385 - val_acc: 0.8939\n",
      "Epoch 17/100\n",
      "10/10 [==============================] - 27s 3s/step - loss: 0.1772 - acc: 0.9400 - val_loss: 0.1793 - val_acc: 0.9343\n",
      "Epoch 18/100\n",
      "10/10 [==============================] - 26s 3s/step - loss: 0.1860 - acc: 0.9348 - val_loss: 0.1623 - val_acc: 0.9388\n",
      "Epoch 19/100\n",
      "10/10 [==============================] - 26s 3s/step - loss: 0.2391 - acc: 0.8900 - val_loss: 0.1821 - val_acc: 0.9444\n",
      "Epoch 20/100\n",
      "10/10 [==============================] - 26s 3s/step - loss: 0.1676 - acc: 0.9318 - val_loss: 0.1683 - val_acc: 0.9444\n",
      "Epoch 21/100\n",
      "10/10 [==============================] - 26s 3s/step - loss: 0.1981 - acc: 0.9348 - val_loss: 0.1528 - val_acc: 0.9646\n",
      "Epoch 22/100\n",
      "10/10 [==============================] - 27s 3s/step - loss: 0.1539 - acc: 0.9500 - val_loss: 0.1591 - val_acc: 0.9394\n",
      "Epoch 23/100\n",
      "10/10 [==============================] - 28s 3s/step - loss: 0.1728 - acc: 0.9383 - val_loss: 0.3041 - val_acc: 0.8990\n",
      "Epoch 24/100\n",
      "10/10 [==============================] - 27s 3s/step - loss: 0.1577 - acc: 0.9549 - val_loss: 0.1266 - val_acc: 0.9596\n",
      "Epoch 25/100\n",
      "10/10 [==============================] - 26s 3s/step - loss: 0.1574 - acc: 0.9450 - val_loss: 0.1533 - val_acc: 0.9646\n",
      "Epoch 26/100\n",
      "10/10 [==============================] - 26s 3s/step - loss: 0.1198 - acc: 0.9684 - val_loss: 0.1439 - val_acc: 0.9495\n",
      "Epoch 27/100\n",
      "10/10 [==============================] - 26s 3s/step - loss: 0.1844 - acc: 0.9200 - val_loss: 0.1380 - val_acc: 0.9592\n",
      "Epoch 28/100\n",
      "10/10 [==============================] - 26s 3s/step - loss: 0.1496 - acc: 0.9534 - val_loss: 0.1453 - val_acc: 0.9444\n",
      "Epoch 29/100\n",
      "10/10 [==============================] - 26s 3s/step - loss: 0.1507 - acc: 0.9549 - val_loss: 0.1571 - val_acc: 0.9444\n",
      "Epoch 30/100\n",
      "10/10 [==============================] - 26s 3s/step - loss: 0.0927 - acc: 0.9750 - val_loss: 0.1512 - val_acc: 0.9293\n",
      "Epoch 31/100\n",
      "10/10 [==============================] - 26s 3s/step - loss: 0.1436 - acc: 0.9599 - val_loss: 0.0918 - val_acc: 0.9646\n",
      "Epoch 32/100\n",
      "10/10 [==============================] - 26s 3s/step - loss: 0.1276 - acc: 0.9534 - val_loss: 0.1233 - val_acc: 0.9646\n",
      "Epoch 33/100\n",
      "10/10 [==============================] - 26s 3s/step - loss: 0.1314 - acc: 0.9500 - val_loss: 0.0962 - val_acc: 0.9697\n",
      "Epoch 34/100\n",
      "10/10 [==============================] - 26s 3s/step - loss: 0.1263 - acc: 0.9584 - val_loss: 0.1031 - val_acc: 0.9697\n",
      "Epoch 35/100\n",
      "10/10 [==============================] - 26s 3s/step - loss: 0.0960 - acc: 0.9750 - val_loss: 0.0893 - val_acc: 0.9747\n",
      "Epoch 36/100\n",
      "10/10 [==============================] - 26s 3s/step - loss: 0.1097 - acc: 0.9599 - val_loss: 0.1650 - val_acc: 0.9286\n",
      "Epoch 37/100\n",
      "10/10 [==============================] - 26s 3s/step - loss: 0.0970 - acc: 0.9734 - val_loss: 0.0958 - val_acc: 0.9747\n",
      "Epoch 38/100\n",
      "10/10 [==============================] - 26s 3s/step - loss: 0.1001 - acc: 0.9750 - val_loss: 0.0794 - val_acc: 0.9848\n",
      "Epoch 39/100\n",
      "10/10 [==============================] - 26s 3s/step - loss: 0.0665 - acc: 0.9800 - val_loss: 0.1562 - val_acc: 0.9293\n",
      "Epoch 40/100\n",
      "10/10 [==============================] - 26s 3s/step - loss: 0.1312 - acc: 0.9634 - val_loss: 0.0883 - val_acc: 0.9798\n",
      "Epoch 41/100\n",
      "10/10 [==============================] - 26s 3s/step - loss: 0.1193 - acc: 0.9600 - val_loss: 0.0667 - val_acc: 0.9899\n",
      "Epoch 42/100\n",
      "10/10 [==============================] - 26s 3s/step - loss: 0.0492 - acc: 0.9850 - val_loss: 0.0897 - val_acc: 0.9798\n",
      "Epoch 43/100\n",
      "10/10 [==============================] - 26s 3s/step - loss: 0.0903 - acc: 0.9650 - val_loss: 0.0786 - val_acc: 0.9747\n",
      "Epoch 44/100\n",
      "10/10 [==============================] - 26s 3s/step - loss: 0.0936 - acc: 0.9684 - val_loss: 0.0739 - val_acc: 0.9848\n",
      "Epoch 45/100\n",
      "10/10 [==============================] - 26s 3s/step - loss: 0.0311 - acc: 0.9950 - val_loss: 0.0753 - val_acc: 0.9745\n",
      "Epoch 46/100\n",
      "10/10 [==============================] - 26s 3s/step - loss: 0.0801 - acc: 0.9750 - val_loss: 0.0653 - val_acc: 0.9848\n",
      "Epoch 47/100\n",
      "10/10 [==============================] - 26s 3s/step - loss: 0.1078 - acc: 0.9649 - val_loss: 0.3005 - val_acc: 0.8283\n",
      "Epoch 48/100\n",
      "10/10 [==============================] - 26s 3s/step - loss: 0.0830 - acc: 0.9649 - val_loss: 0.0823 - val_acc: 0.9747\n",
      "Epoch 49/100\n",
      "10/10 [==============================] - 26s 3s/step - loss: 0.0688 - acc: 0.9750 - val_loss: 0.0512 - val_acc: 0.9899\n",
      "Epoch 50/100\n",
      "10/10 [==============================] - 26s 3s/step - loss: 0.0729 - acc: 0.9684 - val_loss: 0.0806 - val_acc: 0.9596\n",
      "Epoch 51/100\n",
      "10/10 [==============================] - 26s 3s/step - loss: 0.0668 - acc: 0.9850 - val_loss: 0.0742 - val_acc: 0.9747\n",
      "Epoch 52/100\n",
      "10/10 [==============================] - 26s 3s/step - loss: 0.0578 - acc: 0.9800 - val_loss: 0.0484 - val_acc: 0.9899\n",
      "Epoch 53/100\n",
      "10/10 [==============================] - 26s 3s/step - loss: 0.0599 - acc: 0.9800 - val_loss: 0.0806 - val_acc: 0.9747\n",
      "Epoch 54/100\n",
      "10/10 [==============================] - 26s 3s/step - loss: 0.0769 - acc: 0.9750 - val_loss: 0.0516 - val_acc: 0.9847\n",
      "Epoch 55/100\n",
      "10/10 [==============================] - 26s 3s/step - loss: 0.0489 - acc: 0.9800 - val_loss: 0.0495 - val_acc: 0.9848\n",
      "Epoch 56/100\n",
      "10/10 [==============================] - 26s 3s/step - loss: 0.0683 - acc: 0.9749 - val_loss: 0.0692 - val_acc: 0.9798\n",
      "Epoch 57/100\n",
      "10/10 [==============================] - 26s 3s/step - loss: 0.0619 - acc: 0.9750 - val_loss: 0.0371 - val_acc: 0.9848\n",
      "Epoch 58/100\n",
      "10/10 [==============================] - 26s 3s/step - loss: 0.0540 - acc: 0.9784 - val_loss: 0.0930 - val_acc: 0.9444\n",
      "Epoch 59/100\n",
      "10/10 [==============================] - 26s 3s/step - loss: 0.0403 - acc: 0.9800 - val_loss: 0.0309 - val_acc: 0.9899\n",
      "Epoch 60/100\n",
      "10/10 [==============================] - 26s 3s/step - loss: 0.0760 - acc: 0.9819 - val_loss: 0.0436 - val_acc: 0.9848\n",
      "Epoch 61/100\n",
      "10/10 [==============================] - 26s 3s/step - loss: 0.0795 - acc: 0.9699 - val_loss: 0.0639 - val_acc: 0.9747\n",
      "Epoch 62/100\n",
      "10/10 [==============================] - 26s 3s/step - loss: 0.0496 - acc: 0.9850 - val_loss: 0.0472 - val_acc: 0.9899\n",
      "Epoch 63/100\n",
      "10/10 [==============================] - 26s 3s/step - loss: 0.0357 - acc: 0.9885 - val_loss: 0.0456 - val_acc: 0.9847\n",
      "Epoch 64/100\n",
      "10/10 [==============================] - 26s 3s/step - loss: 0.0551 - acc: 0.9800 - val_loss: 0.0554 - val_acc: 0.9798\n",
      "Epoch 65/100\n",
      "10/10 [==============================] - 26s 3s/step - loss: 0.0542 - acc: 0.9700 - val_loss: 0.0328 - val_acc: 0.9899\n",
      "Epoch 66/100\n",
      "10/10 [==============================] - 26s 3s/step - loss: 0.0370 - acc: 0.9935 - val_loss: 0.0453 - val_acc: 0.9798\n",
      "Epoch 67/100\n",
      "10/10 [==============================] - 26s 3s/step - loss: 0.0364 - acc: 0.9900 - val_loss: 0.0499 - val_acc: 0.9798\n",
      "Epoch 68/100\n",
      "10/10 [==============================] - 26s 3s/step - loss: 0.0606 - acc: 0.9769 - val_loss: 0.0400 - val_acc: 0.9848\n",
      "Epoch 69/100\n",
      "10/10 [==============================] - 26s 3s/step - loss: 0.0666 - acc: 0.9699 - val_loss: 0.0358 - val_acc: 0.9848\n",
      "Epoch 70/100\n",
      "10/10 [==============================] - 26s 3s/step - loss: 0.0242 - acc: 0.9950 - val_loss: 0.0246 - val_acc: 0.9899\n",
      "Epoch 71/100\n",
      "10/10 [==============================] - 26s 3s/step - loss: 0.0179 - acc: 0.9900 - val_loss: 0.0544 - val_acc: 0.9747\n",
      "Epoch 72/100\n",
      "10/10 [==============================] - 26s 3s/step - loss: 0.0495 - acc: 0.9834 - val_loss: 0.1966 - val_acc: 0.9184\n",
      "Epoch 73/100\n",
      "10/10 [==============================] - 26s 3s/step - loss: 0.0667 - acc: 0.9750 - val_loss: 0.0335 - val_acc: 0.9899\n",
      "Epoch 74/100\n",
      "10/10 [==============================] - 26s 3s/step - loss: 0.0268 - acc: 0.9900 - val_loss: 0.0475 - val_acc: 0.9949\n",
      "Epoch 75/100\n",
      "10/10 [==============================] - 26s 3s/step - loss: 0.0219 - acc: 1.0000 - val_loss: 0.0493 - val_acc: 0.9798\n",
      "Epoch 76/100\n",
      "10/10 [==============================] - 26s 3s/step - loss: 0.0168 - acc: 0.9950 - val_loss: 0.0463 - val_acc: 0.9798\n",
      "Epoch 77/100\n",
      "10/10 [==============================] - 26s 3s/step - loss: 0.0519 - acc: 0.9900 - val_loss: 0.0134 - val_acc: 0.9899\n",
      "Epoch 78/100\n",
      "10/10 [==============================] - 26s 3s/step - loss: 0.0158 - acc: 0.9950 - val_loss: 0.0638 - val_acc: 0.9646\n",
      "Epoch 79/100\n",
      "10/10 [==============================] - 26s 3s/step - loss: 0.0399 - acc: 0.9850 - val_loss: 0.0512 - val_acc: 1.0000\n",
      "Epoch 80/100\n",
      "10/10 [==============================] - 26s 3s/step - loss: 0.0166 - acc: 1.0000 - val_loss: 0.0444 - val_acc: 0.9848\n",
      "Epoch 81/100\n",
      "10/10 [==============================] - 26s 3s/step - loss: 0.0435 - acc: 0.9800 - val_loss: 0.0316 - val_acc: 0.9847\n",
      "Epoch 82/100\n",
      "10/10 [==============================] - 26s 3s/step - loss: 0.0124 - acc: 0.9950 - val_loss: 0.0313 - val_acc: 0.9848\n",
      "Epoch 83/100\n",
      "10/10 [==============================] - 26s 3s/step - loss: 0.0341 - acc: 0.9850 - val_loss: 0.0324 - val_acc: 0.9848\n",
      "Epoch 84/100\n",
      "10/10 [==============================] - 27s 3s/step - loss: 0.0401 - acc: 0.9900 - val_loss: 0.0382 - val_acc: 0.9848\n",
      "Epoch 85/100\n",
      "10/10 [==============================] - 26s 3s/step - loss: 0.0295 - acc: 0.9950 - val_loss: 0.0572 - val_acc: 0.9848\n",
      "Epoch 86/100\n",
      "10/10 [==============================] - 26s 3s/step - loss: 0.0153 - acc: 1.0000 - val_loss: 0.0138 - val_acc: 0.9949\n",
      "Epoch 87/100\n",
      "10/10 [==============================] - 26s 3s/step - loss: 0.0281 - acc: 0.9950 - val_loss: 0.0617 - val_acc: 0.9646\n",
      "Epoch 88/100\n",
      "10/10 [==============================] - 26s 3s/step - loss: 0.0140 - acc: 1.0000 - val_loss: 0.0381 - val_acc: 0.9848\n",
      "Epoch 89/100\n",
      "10/10 [==============================] - 26s 3s/step - loss: 0.0141 - acc: 0.9950 - val_loss: 0.0266 - val_acc: 0.9899\n",
      "Epoch 90/100\n",
      "10/10 [==============================] - 26s 3s/step - loss: 0.0357 - acc: 0.9950 - val_loss: 0.0205 - val_acc: 0.9949\n",
      "Epoch 91/100\n",
      "10/10 [==============================] - 27s 3s/step - loss: 0.0347 - acc: 0.9900 - val_loss: 0.0339 - val_acc: 0.9899\n",
      "Epoch 92/100\n",
      "10/10 [==============================] - 27s 3s/step - loss: 0.0129 - acc: 0.9950 - val_loss: 0.0193 - val_acc: 0.9949\n",
      "Epoch 93/100\n",
      "10/10 [==============================] - 27s 3s/step - loss: 0.0301 - acc: 0.9885 - val_loss: 0.0290 - val_acc: 0.9899\n",
      "Epoch 94/100\n",
      "10/10 [==============================] - 27s 3s/step - loss: 0.0262 - acc: 0.9900 - val_loss: 0.0428 - val_acc: 1.0000\n",
      "Epoch 95/100\n",
      "10/10 [==============================] - 26s 3s/step - loss: 0.0056 - acc: 1.0000 - val_loss: 0.0319 - val_acc: 0.9848\n",
      "Epoch 96/100\n",
      "10/10 [==============================] - 26s 3s/step - loss: 0.0419 - acc: 0.9850 - val_loss: 0.0194 - val_acc: 0.9949\n",
      "Epoch 97/100\n",
      "10/10 [==============================] - 27s 3s/step - loss: 0.0095 - acc: 0.9950 - val_loss: 0.0290 - val_acc: 1.0000\n",
      "Epoch 98/100\n",
      "10/10 [==============================] - 27s 3s/step - loss: 0.0384 - acc: 0.9885 - val_loss: 0.0209 - val_acc: 0.9899\n",
      "Epoch 99/100\n",
      "10/10 [==============================] - 27s 3s/step - loss: 0.0162 - acc: 0.9900 - val_loss: 0.0454 - val_acc: 0.9949\n",
      "Epoch 100/100\n",
      "10/10 [==============================] - 26s 3s/step - loss: 0.0209 - acc: 0.9900 - val_loss: 0.0158 - val_acc: 0.9949\n"
     ]
    }
   ],
   "source": [
    "history=model.fit_generator(\n",
    "train_generator,\n",
    "steps_per_epoch=10,\n",
    "epochs=100,\n",
    "validation_data=validation_generator,\n",
    "validation_steps=10)"
   ]
  },
  {
   "cell_type": "code",
   "execution_count": 21,
   "metadata": {},
   "outputs": [
    {
     "data": {
      "image/png": "[encoded data removed]",
      "text/plain": [
       "<Figure size 432x288 with 1 Axes>"
      ]
     },
     "metadata": {
      "needs_background": "light"
     },
     "output_type": "display_data"
    },
    {
     "data": {
      "text/plain": [
       "<Figure size 432x288 with 0 Axes>"
      ]
     },
     "metadata": {},
     "output_type": "display_data"
    },
    {
     "data": {
      "image/png": "[encoded data removed]",
      "text/plain": [
       "<Figure size 432x288 with 1 Axes>"
      ]
     },
     "metadata": {
      "needs_background": "light"
     },
     "output_type": "display_data"
    },
    {
     "data": {
      "text/plain": [
       "<Figure size 432x288 with 0 Axes>"
      ]
     },
     "metadata": {},
     "output_type": "display_data"
    }
   ],
   "source": [
    "import matplotlib.pyplot as plt\n",
    "acc=history.history['acc']\n",
    "val_acc=history.history['val_acc']\n",
    "loss=history.history['loss']\n",
    "val_loss=history.history['val_loss']\n",
    "epochs=range(1,len(acc)+1)\n",
    "plt.plot(epochs,acc,'bo',label='Training acc')\n",
    "plt.plot(epochs,val_acc,'b',label='Validation acc')\n",
    "plt.legend()\n",
    "plt.figure()\n",
    "plt.show()\n",
    "\n",
    "\n",
    "plt.plot(epochs,loss,'bo',label='Training loss')\n",
    "plt.plot(epochs,val_loss,'b',label='Validation loss')\n",
    "plt.legend()\n",
    "plt.figure()\n",
    "plt.show()"
   ]
  },
  {
   "cell_type": "code",
   "execution_count": 22,
   "metadata": {},
   "outputs": [],
   "source": [
    "test_datagen=ImageDataGenerator(rescale=1./255)"
   ]
  },
  {
   "cell_type": "code",
   "execution_count": 23,
   "metadata": {},
   "outputs": [],
   "source": [
    "def pred(p):\n",
    "    test_image = image.load_img(p, target_size=(150, 150))\n",
    "    test_image = image.img_to_array(test_image)\n",
    "    test_image = np.expand_dims(test_image, axis=0)\n",
    "    prediction = model.predict(test_image)\n",
    "    return prediction"
   ]
  },
  {
   "cell_type": "code",
   "execution_count": 24,
   "metadata": {},
   "outputs": [
    {
     "data": {
      "text/plain": [
       "{'fire': 0, 'nofire': 1}"
      ]
     },
     "execution_count": 24,
     "metadata": {},
     "output_type": "execute_result"
    }
   ],
   "source": [
    "train_generator.class_indices"
   ]
  },
  {
   "cell_type": "code",
   "execution_count": 35,
   "metadata": {},
   "outputs": [],
   "source": [
    "import winsound\n",
    "frequency = 500  # Set Frequency To 2500 Hertz\n",
    "duration = 500  # Set Duration To 1000 ms == 1 second"
   ]
  },
  {
   "cell_type": "code",
   "execution_count": 54,
   "metadata": {},
   "outputs": [],
   "source": [
    "test_dir=os.path.join(base_dir,'test')\n",
    "import numpy as np\n",
    "from keras.preprocessing import image"
   ]
  },
  {
   "cell_type": "code",
   "execution_count": 57,
   "metadata": {},
   "outputs": [
    {
     "name": "stdout",
     "output_type": "stream",
     "text": [
      "C:/Karthik/Analytics/dataset/Fire/frames/test/0.jpg !!!!!!!!!FIRE!!!!!!!!\n",
      "C:/Karthik/Analytics/dataset/Fire/frames/test/1.jpg !!!!!!!!!FIRE!!!!!!!!\n",
      "C:/Karthik/Analytics/dataset/Fire/frames/test/2.jpg !!!!!!!!!FIRE!!!!!!!!\n",
      "C:/Karthik/Analytics/dataset/Fire/frames/test/3.jpg !!!!!!!!!FIRE!!!!!!!!\n",
      "C:/Karthik/Analytics/dataset/Fire/frames/test/4.jpg !!!!!!!!!FIRE!!!!!!!!\n",
      "C:/Karthik/Analytics/dataset/Fire/frames/test/5.jpg !!!!!!!!!FIRE!!!!!!!!\n",
      "C:/Karthik/Analytics/dataset/Fire/frames/test/6.jpg !!!!!!!!!FIRE!!!!!!!!\n",
      "C:/Karthik/Analytics/dataset/Fire/frames/test/7.jpg !!!!!!!!!FIRE!!!!!!!!\n",
      "C:/Karthik/Analytics/dataset/Fire/frames/test/8.jpg !!!!!!!!!FIRE!!!!!!!!\n",
      "C:/Karthik/Analytics/dataset/Fire/frames/test/9.jpg !!!!!!!!!FIRE!!!!!!!!\n",
      "C:/Karthik/Analytics/dataset/Fire/frames/test/10.jpg !!!!!!!!!FIRE!!!!!!!!\n",
      "C:/Karthik/Analytics/dataset/Fire/frames/test/11.jpg No Fire\n",
      "C:/Karthik/Analytics/dataset/Fire/frames/test/12.jpg No Fire\n",
      "C:/Karthik/Analytics/dataset/Fire/frames/test/13.jpg No Fire\n",
      "C:/Karthik/Analytics/dataset/Fire/frames/test/14.jpg No Fire\n",
      "C:/Karthik/Analytics/dataset/Fire/frames/test/15.jpg No Fire\n",
      "C:/Karthik/Analytics/dataset/Fire/frames/test/16.jpg No Fire\n",
      "C:/Karthik/Analytics/dataset/Fire/frames/test/17.jpg No Fire\n",
      "C:/Karthik/Analytics/dataset/Fire/frames/test/18.jpg No Fire\n",
      "C:/Karthik/Analytics/dataset/Fire/frames/test/19.jpg No Fire\n",
      "C:/Karthik/Analytics/dataset/Fire/frames/test/20.jpg No Fire\n",
      "C:/Karthik/Analytics/dataset/Fire/frames/test/21.jpg No Fire\n",
      "C:/Karthik/Analytics/dataset/Fire/frames/test/22.jpg No Fire\n",
      "C:/Karthik/Analytics/dataset/Fire/frames/test/23.jpg No Fire\n",
      "C:/Karthik/Analytics/dataset/Fire/frames/test/24.jpg No Fire\n",
      "C:/Karthik/Analytics/dataset/Fire/frames/test/25.jpg No Fire\n",
      "C:/Karthik/Analytics/dataset/Fire/frames/test/26.jpg No Fire\n"
     ]
    }
   ],
   "source": [
    "for x in range(0,len(os.listdir(test_dir))):\n",
    "    our_prediction=pred\n",
    "    p='C:/Karthik/Analytics/dataset/Fire/frames/test/' +str(x) + '.jpg'\n",
    "    val=our_prediction(p)\n",
    "    if val==[[1.]]:\n",
    "        print(p, \"No Fire\")\n",
    "      \n",
    "        \n",
    "    else:\n",
    "       print(p, \"!!!!!!!!!FIRE!!!!!!!!\")\n",
    "       winsound.Beep(frequency, duration)\n",
    "    "
   ]
  },
  {
   "cell_type": "code",
   "execution_count": 44,
   "metadata": {},
   "outputs": [
    {
     "data": {
      "text/plain": [
       "27"
      ]
     },
     "execution_count": 44,
     "metadata": {},
     "output_type": "execute_result"
    }
   ],
   "source": [
    "len(os.listdir(test_dir))"
   ]
  },
  {
   "cell_type": "code",
   "execution_count": null,
   "metadata": {},
   "outputs": [],
   "source": []
  }
 ],
 "metadata": {
  "kernelspec": {
   "display_name": "Python 3",
   "language": "python",
   "name": "python3"
  },
  "language_info": {
   "codemirror_mode": {
    "name": "ipython",
    "version": 3
   },
   "file_extension": ".py",
   "mimetype": "text/x-python",
   "name": "python",
   "nbconvert_exporter": "python",
   "pygments_lexer": "ipython3",
   "version": "3.7.1"
  }
 },
 "nbformat": 4,
 "nbformat_minor": 2
}
